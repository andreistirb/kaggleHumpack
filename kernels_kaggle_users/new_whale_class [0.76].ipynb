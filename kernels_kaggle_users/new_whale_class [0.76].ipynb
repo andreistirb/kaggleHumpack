{
 "cells": [
  {
   "cell_type": "markdown",
   "metadata": {},
   "source": [
    "This notebook contains a classifier between new_whale (class identified as 0) and other (class identified as 1)"
   ]
  },
  {
   "cell_type": "code",
   "execution_count": 1,
   "metadata": {},
   "outputs": [],
   "source": [
    "from fastai.conv_learner import *\n",
    "from fastai.dataset import *\n",
    "from tqdm import tqdm \n",
    "import pandas as pd\n",
    "import numpy as np\n",
    "import os\n",
    "from sklearn.model_selection import train_test_split, StratifiedShuffleSplit\n",
    "import matplotlib.pyplot as plt\n",
    "import math"
   ]
  },
  {
   "cell_type": "code",
   "execution_count": 2,
   "metadata": {},
   "outputs": [],
   "source": [
    "# Set paths to dataset\n",
    "TRAIN = \"../original_data/train\"\n",
    "TEST = \"../original_data/test\"\n",
    "LABELS = \"../original_data/train.csv\"\n",
    "SAMPLE_SUB = \"../original_data/sample_submission.csv\""
   ]
  },
  {
   "cell_type": "code",
   "execution_count": 3,
   "metadata": {},
   "outputs": [],
   "source": [
    "arch = resnet50\n",
    "nw = 4"
   ]
  },
  {
   "cell_type": "code",
   "execution_count": 35,
   "metadata": {},
   "outputs": [],
   "source": [
    "# prepare the dataset to work with Fastai pipeline\n",
    "train_df = pd.read_csv(LABELS).set_index('Image')\n",
    "#print(train_df)"
   ]
  },
  {
   "cell_type": "code",
   "execution_count": 29,
   "metadata": {},
   "outputs": [
    {
     "data": {
      "text/plain": [
       "array(['new_whale', 'w_0003639', 'w_0003c59', ..., 'w_ffa6d42', 'w_ffcf5fe', 'w_ffe8693'], dtype=object)"
      ]
     },
     "execution_count": 29,
     "metadata": {},
     "output_type": "execute_result"
    }
   ],
   "source": [
    "unique_labels = np.unique(train_df.Id.values)\n",
    "unique_labels"
   ]
  },
  {
   "cell_type": "code",
   "execution_count": 30,
   "metadata": {},
   "outputs": [],
   "source": [
    "labels_dict = dict()\n",
    "labels_list = []\n",
    "# assign new_whale class 0\n",
    "labels_dict[unique_labels[0]] = 0\n",
    "labels_list.append(0)\n",
    "labels_list.append(1)\n",
    "for i in range(1, len(unique_labels)):\n",
    "    labels_dict[unique_labels[i]] = 1\n",
    "    #labels_list.append(unique_labels[i])\n",
    "#print(\"Labels dict: {}\".format(labels_dict))\n",
    "#print(\"Labels list: {}\".format(labels_list))\n",
    "#print(\"Number of classes: {}\".format(len(unique_labels)))\n"
   ]
  },
  {
   "cell_type": "code",
   "execution_count": 36,
   "metadata": {},
   "outputs": [
    {
     "data": {
      "text/plain": [
       "Image\n",
       "0000e88ab.jpg    1\n",
       "0001f9222.jpg    1\n",
       "00029d126.jpg    1\n",
       "00050a15a.jpg    0\n",
       "0005c1ef8.jpg    0\n",
       "0006e997e.jpg    0\n",
       "000a6daec.jpg    1\n",
       "000f0f2bf.jpg    0\n",
       "0016b897a.jpg    1\n",
       "001c1ac5f.jpg    1\n",
       "001cae55b.jpg    1\n",
       "001d7450c.jpg    0\n",
       "00200e115.jpg    0\n",
       "00245a598.jpg    0\n",
       "002b4615d.jpg    0\n",
       "002f99f01.jpg    0\n",
       "00355ff28.jpg    1\n",
       "00357e37a.jpg    1\n",
       "003795857.jpg    0\n",
       "0041880bf.jpg    0\n",
       "0043da555.jpg    0\n",
       "00442c882.jpg    1\n",
       "00464ff65.jpg    0\n",
       "004775679.jpg    1\n",
       "004ae9e26.jpg    0\n",
       "004c0f43b.jpg    0\n",
       "004e8ad5b.jpg    1\n",
       "004f87702.jpg    1\n",
       "0050ef29d.jpg    1\n",
       "00514c876.jpg    1\n",
       "                ..\n",
       "ff9c31f7d.jpg    1\n",
       "ff9ca801d.jpg    0\n",
       "ffa18f942.jpg    0\n",
       "ffa3d0d2e.jpg    1\n",
       "ffa5fa27e.jpg    1\n",
       "ffa695dbf.jpg    1\n",
       "ffa9fc95d.jpg    1\n",
       "ffaba39d4.jpg    1\n",
       "ffad54783.jpg    1\n",
       "ffad62503.jpg    0\n",
       "ffb9d76d2.jpg    0\n",
       "ffbead2bd.jpg    0\n",
       "ffc0dd0dc.jpg    1\n",
       "ffc7686c5.jpg    0\n",
       "ffc946e11.jpg    0\n",
       "ffca5cb22.jpg    1\n",
       "ffcd5efdc.jpg    1\n",
       "ffd0f1e95.jpg    0\n",
       "ffd19b7d0.jpg    0\n",
       "ffd2144c5.jpg    0\n",
       "ffd61cded.jpg    0\n",
       "ffd7a6f5a.jpg    1\n",
       "ffdddcc0f.jpg    0\n",
       "ffe52d320.jpg    1\n",
       "ffe7560cd.jpg    1\n",
       "ffef89eed.jpg    1\n",
       "fff7faf61.jpg    1\n",
       "fff9002e0.jpg    1\n",
       "fffcde6fe.jpg    1\n",
       "fffde072b.jpg    0\n",
       "Name: Id, Length: 25361, dtype: int64"
      ]
     },
     "execution_count": 36,
     "metadata": {},
     "output_type": "execute_result"
    }
   ],
   "source": [
    "# convert from w_a1o23whatever into our own index\n",
    "train_names = train_df.index.values\n",
    "#train_names\n",
    "#train_df\n",
    "x = train_df.Id.apply(lambda x: labels_dict[x])\n",
    "x"
   ]
  },
  {
   "cell_type": "code",
   "execution_count": 37,
   "metadata": {},
   "outputs": [
    {
     "name": "stdout",
     "output_type": "stream",
     "text": [
      "               Id\n",
      "Image            \n",
      "0000e88ab.jpg   1\n",
      "0001f9222.jpg   1\n",
      "00029d126.jpg   1\n",
      "00050a15a.jpg   0\n",
      "0005c1ef8.jpg   0\n",
      "0006e997e.jpg   0\n",
      "000a6daec.jpg   1\n",
      "000f0f2bf.jpg   0\n",
      "0016b897a.jpg   1\n",
      "001c1ac5f.jpg   1\n",
      "001cae55b.jpg   1\n",
      "001d7450c.jpg   0\n",
      "00200e115.jpg   0\n",
      "00245a598.jpg   0\n",
      "002b4615d.jpg   0\n",
      "002f99f01.jpg   0\n",
      "00355ff28.jpg   1\n",
      "00357e37a.jpg   1\n",
      "003795857.jpg   0\n",
      "0041880bf.jpg   0\n",
      "0043da555.jpg   0\n",
      "00442c882.jpg   1\n",
      "00464ff65.jpg   0\n",
      "004775679.jpg   1\n",
      "004ae9e26.jpg   0\n",
      "004c0f43b.jpg   0\n",
      "004e8ad5b.jpg   1\n",
      "004f87702.jpg   1\n",
      "0050ef29d.jpg   1\n",
      "00514c876.jpg   1\n",
      "...            ..\n",
      "ff9c31f7d.jpg   1\n",
      "ff9ca801d.jpg   0\n",
      "ffa18f942.jpg   0\n",
      "ffa3d0d2e.jpg   1\n",
      "ffa5fa27e.jpg   1\n",
      "ffa695dbf.jpg   1\n",
      "ffa9fc95d.jpg   1\n",
      "ffaba39d4.jpg   1\n",
      "ffad54783.jpg   1\n",
      "ffad62503.jpg   0\n",
      "ffb9d76d2.jpg   0\n",
      "ffbead2bd.jpg   0\n",
      "ffc0dd0dc.jpg   1\n",
      "ffc7686c5.jpg   0\n",
      "ffc946e11.jpg   0\n",
      "ffca5cb22.jpg   1\n",
      "ffcd5efdc.jpg   1\n",
      "ffd0f1e95.jpg   0\n",
      "ffd19b7d0.jpg   0\n",
      "ffd2144c5.jpg   0\n",
      "ffd61cded.jpg   0\n",
      "ffd7a6f5a.jpg   1\n",
      "ffdddcc0f.jpg   0\n",
      "ffe52d320.jpg   1\n",
      "ffe7560cd.jpg   1\n",
      "ffef89eed.jpg   1\n",
      "fff7faf61.jpg   1\n",
      "fff9002e0.jpg   1\n",
      "fffcde6fe.jpg   1\n",
      "fffde072b.jpg   0\n",
      "\n",
      "[25361 rows x 1 columns]\n",
      "Train_labels: [1 1 1 ... 1 1 0]\n"
     ]
    }
   ],
   "source": [
    "train_df.Id = train_df.Id.apply(lambda x: labels_dict[x])\n",
    "print(train_df)\n",
    "train_labels = np.asarray(train_df.Id.values)\n",
    "print(\"Train_labels: {}\".format(train_labels))\n",
    "test_names = [f for f in os.listdir(TEST)]"
   ]
  },
  {
   "cell_type": "code",
   "execution_count": 40,
   "metadata": {},
   "outputs": [
    {
     "name": "stdout",
     "output_type": "stream",
     "text": [
      "1    15697\n",
      "0     9664\n",
      "Name: Id, dtype: int64\n"
     ]
    },
    {
     "data": {
      "image/png": "[encoded data removed]",
      "text/plain": [
       "<Figure size 432x288 with 1 Axes>"
      ]
     },
     "metadata": {
      "needs_background": "light"
     },
     "output_type": "display_data"
    }
   ],
   "source": [
    "# plot a histogram of sample-per-class distribution\n",
    "labels_count = train_df.Id.value_counts()\n",
    "print(labels_count)\n",
    "_, _, _ = plt.hist(labels_count, bins=100)\n",
    "#labels_count"
   ]
  },
  {
   "cell_type": "code",
   "execution_count": 42,
   "metadata": {},
   "outputs": [
    {
     "name": "stdout",
     "output_type": "stream",
     "text": [
      "Count for class new_whale / 0 : 15697\n"
     ]
    },
    {
     "data": {
      "text/plain": [
       "(array([0., 0., 0., 0., 0., 0., 0., 0., 0., 0., 0., 0., 0., 0., 0., 0., 0., 0., 0., 0., 0., 0., 0., 0., 0.,\n",
       "        0., 0., 0., 0., 0., 0., 0., 0., 0., 0., 0., 0., 0., 0., 0., 0., 0., 0., 0., 0., 0., 0., 0., 0., 0.,\n",
       "        0., 0., 0., 0., 0., 0., 0., 0., 0., 0., 0., 0., 0., 0., 0., 0., 0., 0., 0., 0., 0., 0., 0., 0., 0.,\n",
       "        0., 0., 0., 0., 0., 0., 0., 0., 0., 0., 0., 0., 0., 0., 0., 0., 0., 0., 0., 0., 0., 0., 0., 0., 0.]),\n",
       " array([ 0.  ,  0.25,  0.5 ,  0.75,  1.  ,  1.25,  1.5 ,  1.75,  2.  ,  2.25,  2.5 ,  2.75,  3.  ,  3.25,\n",
       "         3.5 ,  3.75,  4.  ,  4.25,  4.5 ,  4.75,  5.  ,  5.25,  5.5 ,  5.75,  6.  ,  6.25,  6.5 ,  6.75,\n",
       "         7.  ,  7.25,  7.5 ,  7.75,  8.  ,  8.25,  8.5 ,  8.75,  9.  ,  9.25,  9.5 ,  9.75, 10.  , 10.25,\n",
       "        10.5 , 10.75, 11.  , 11.25, 11.5 , 11.75, 12.  , 12.25, 12.5 , 12.75, 13.  , 13.25, 13.5 , 13.75,\n",
       "        14.  , 14.25, 14.5 , 14.75, 15.  , 15.25, 15.5 , 15.75, 16.  , 16.25, 16.5 , 16.75, 17.  , 17.25,\n",
       "        17.5 , 17.75, 18.  , 18.25, 18.5 , 18.75, 19.  , 19.25, 19.5 , 19.75, 20.  , 20.25, 20.5 , 20.75,\n",
       "        21.  , 21.25, 21.5 , 21.75, 22.  , 22.25, 22.5 , 22.75, 23.  , 23.25, 23.5 , 23.75, 24.  , 24.25,\n",
       "        24.5 , 24.75, 25.  ]),\n",
       " <a list of 100 Patch objects>)"
      ]
     },
     "execution_count": 42,
     "metadata": {},
     "output_type": "execute_result"
    },
    {
     "data": {
      "image/png": "[encoded data removed]",
      "text/plain": [
       "<Figure size 432x288 with 1 Axes>"
      ]
     },
     "metadata": {
      "needs_background": "light"
     },
     "output_type": "display_data"
    }
   ],
   "source": [
    "# we can see that the histogram does not show anything good because of new_whale many examples\n",
    "print(\"Count for class new_whale / 0 : {}\".format(labels_count[0]))\n",
    "\n",
    "plt.hist(labels_count[1:], bins = 100, range=[0, 25])"
   ]
  },
  {
   "cell_type": "code",
   "execution_count": 43,
   "metadata": {},
   "outputs": [
    {
     "name": "stdout",
     "output_type": "stream",
     "text": [
      "['0000e88ab.jpg' '0001f9222.jpg' '00029d126.jpg' ... 'fff9002e0.jpg' 'fffcde6fe.jpg' 'fffde072b.jpg']\n"
     ]
    }
   ],
   "source": [
    "print(train_names)"
   ]
  },
  {
   "cell_type": "code",
   "execution_count": 17,
   "metadata": {},
   "outputs": [
    {
     "name": "stdout",
     "output_type": "stream",
     "text": [
      "41589\n"
     ]
    }
   ],
   "source": [
    "# we need to duplicate examples because there are many classes with just one example\n",
    "dup = []\n",
    "for idx, row in train_df.iterrows():\n",
    "    if labels_count[row['Id']] < 5:\n",
    "        dup.extend([idx]*math.ceil((5 - labels_count[row['Id']])/labels_count[row['Id']]))\n",
    "train_names = np.concatenate([train_names, dup])\n",
    "#print(len(train_names))\n",
    "train_names = train_names[np.random.RandomState(seed=50).permutation(train_names.shape[0])]\n",
    "print(len(train_names))"
   ]
  },
  {
   "cell_type": "code",
   "execution_count": 44,
   "metadata": {},
   "outputs": [
    {
     "name": "stdout",
     "output_type": "stream",
     "text": [
      "22824 2537\n"
     ]
    }
   ],
   "source": [
    "# Split training data into train and validation\n",
    "sss = StratifiedShuffleSplit(n_splits=1, test_size=0.1,random_state=42069)\n",
    "for train_idx, val_idx in sss.split(train_names, np.zeros(train_names.shape)):\n",
    "    tr_n, val_n = train_names[train_idx], train_names[val_idx]\n",
    "print(len(tr_n), len(val_n))"
   ]
  },
  {
   "cell_type": "code",
   "execution_count": 45,
   "metadata": {},
   "outputs": [
    {
     "name": "stdout",
     "output_type": "stream",
     "text": [
      "1011 522\n"
     ]
    }
   ],
   "source": [
    "# Let's see the dimensions (height, width) of images\n",
    "avg_width = 0\n",
    "avg_height = 0\n",
    "for fn in os.listdir(TRAIN)[:1000]:\n",
    "    img = cv2.imread(os.path.join(TRAIN,fn))\n",
    "    avg_width += img.shape[1]\n",
    "    avg_height += img.shape[0]\n",
    "\n",
    "avg_width //= 1000\n",
    "avg_height //= 1000\n",
    "print(avg_width, avg_height)"
   ]
  },
  {
   "cell_type": "code",
   "execution_count": 46,
   "metadata": {},
   "outputs": [],
   "source": [
    "class HWIDataset(FilesDataset):\n",
    "    def __init__(self, fnames, path, transform):\n",
    "        self.train_df = train_df\n",
    "        super().__init__(fnames, transform, path)\n",
    "        \n",
    "    def get_x(self, i):\n",
    "        img = open_image(os.path.join(self.path, self.fnames[i]))\n",
    "        img = cv2.resize(img, (self.sz, self.sz))\n",
    "        return img\n",
    "    \n",
    "    def get_y(self, i):\n",
    "        if(self.path == TEST): return 0\n",
    "        return self.train_df.loc[self.fnames[i]]['Id']\n",
    "    \n",
    "    def get_c(self):\n",
    "        return len(unique_labels)"
   ]
  },
  {
   "cell_type": "code",
   "execution_count": 47,
   "metadata": {},
   "outputs": [],
   "source": [
    "class RandomLightning(Transform):\n",
    "    def __init__(self, b, c, tfm_y=TfmType.NO):\n",
    "        super().__init__(tfm_y)\n",
    "        self.b, self.c = b, c\n",
    "        \n",
    "    def set_state(self):\n",
    "        self.store.b_rand = rand0(self.b)\n",
    "        self.store.c_rand = rand0(self.c)\n",
    "        \n",
    "    def do_transform(self, x, is_y):\n",
    "        if is_y and self.tfm_y != TfmType.PIXEL: return x\n",
    "        b = self.store.b_rand\n",
    "        c = self.store.c_rand\n",
    "        c = -1 / (c-1) if c < 0 else c + 1\n",
    "        x = lighting(x, b, c)\n",
    "        return x\n",
    "    \n",
    "def get_data(sz, bs):\n",
    "    aug_tfms = [RandomRotateZoom(deg=20, zoom=2, stretch=1),\n",
    "                RandomLighting(0.05, 0.05, tfm_y=TfmType.NO),\n",
    "                RandomBlur(blur_strengths=3, tfm_y=TfmType.NO),\n",
    "                RandomFlip(tfm_y=TfmType.NO)]\n",
    "    tfms = tfms_from_model(arch, sz, crop_type=CropType.NO, tfm_y=TfmType.NO, aug_tfms=aug_tfms)\n",
    "    ds = ImageData.get_ds(HWIDataset, (tr_n[:-(len(tr_n) % bs)], TRAIN), (val_n, TRAIN), tfms, test=(test_names, TEST))\n",
    "    md = ImageData(\"./\", ds, bs, num_workers=nw, classes=None)\n",
    "    return md"
   ]
  },
  {
   "cell_type": "code",
   "execution_count": 48,
   "metadata": {},
   "outputs": [],
   "source": [
    "#os.environ[\"CUDA_DEVICE_ORDER\"]=\"PCI_BUS_ID\"   \n",
    "#os.environ[\"CUDA_VISIBLE_DEVICES\"]=\"2\"\n",
    "#torch.cuda.set_device(1)\n",
    "batch_size = 64\n",
    "md = get_data(avg_width//4, batch_size)\n",
    "learn = ConvLearner.pretrained(arch, md)\n",
    "learn.opt_fn = optim.Adam"
   ]
  },
  {
   "cell_type": "code",
   "execution_count": 49,
   "metadata": {
    "scrolled": true
   },
   "outputs": [
    {
     "data": {
      "application/vnd.jupyter.widget-view+json": {
       "model_id": "c68d8f3e0fb74b8ea028ab547073fc6e",
       "version_major": 2,
       "version_minor": 0
      },
      "text/plain": [
       "HBox(children=(IntProgress(value=0, description='Epoch', max=1, style=ProgressStyle(description_width='initial…"
      ]
     },
     "metadata": {},
     "output_type": "display_data"
    },
    {
     "name": "stdout",
     "output_type": "stream",
     "text": [
      " 79%|███████▊  | 280/356 [01:57<00:27,  2.72it/s, loss=5.99]"
     ]
    },
    {
     "data": {
      "image/png": "[encoded data removed]",
      "text/plain": [
       "<Figure size 432x288 with 1 Axes>"
      ]
     },
     "metadata": {
      "needs_background": "light"
     },
     "output_type": "display_data"
    }
   ],
   "source": [
    "learn.lr_find()\n",
    "learn.sched.plot()"
   ]
  },
  {
   "cell_type": "code",
   "execution_count": 50,
   "metadata": {},
   "outputs": [],
   "source": [
    "lr = 1e-2\n",
    "#torch.cuda.set_device(0)"
   ]
  },
  {
   "cell_type": "code",
   "execution_count": 52,
   "metadata": {
    "scrolled": false
   },
   "outputs": [
    {
     "data": {
      "application/vnd.jupyter.widget-view+json": {
       "model_id": "a11ffb663f204c80aff351410bdf0881",
       "version_major": 2,
       "version_minor": 0
      },
      "text/plain": [
       "HBox(children=(IntProgress(value=0, description='Epoch', max=2, style=ProgressStyle(description_width='initial…"
      ]
     },
     "metadata": {},
     "output_type": "display_data"
    },
    {
     "name": "stdout",
     "output_type": "stream",
     "text": [
      "epoch      trn_loss   val_loss   accuracy                    \n",
      "    0      0.591114   0.580064   0.705558  \n",
      "    1      0.574403   0.565897   0.710288                    \n"
     ]
    },
    {
     "data": {
      "application/vnd.jupyter.widget-view+json": {
       "model_id": "9e34ce0f52124890b17e1854ff91eb89",
       "version_major": 2,
       "version_minor": 0
      },
      "text/plain": [
       "HBox(children=(IntProgress(value=0, description='Epoch', max=16, style=ProgressStyle(description_width='initia…"
      ]
     },
     "metadata": {},
     "output_type": "display_data"
    },
    {
     "name": "stdout",
     "output_type": "stream",
     "text": [
      "epoch      trn_loss   val_loss   accuracy                    \n",
      "    0      0.607738   0.590997   0.691368  \n",
      "    1      0.563817   0.570133   0.705164                    \n",
      "    2      0.54633    0.549326   0.734726                    \n",
      "    3      0.529251   0.524392   0.747339                    \n",
      "    4      0.559631   0.665835   0.638155                    \n",
      "    5      0.543536   0.546695   0.738274                    \n",
      "    6      0.525912   0.534805   0.748128                    \n",
      "    7      0.508335   0.515665   0.759559                    \n",
      "    8      0.548886   0.545106   0.734726                    \n",
      "    9      0.530972   0.533094   0.734726                    \n",
      "    10     0.511274   0.528419   0.748916                    \n",
      "    11     0.490485   0.518673   0.758376                    \n",
      "    12     0.546747   0.562632   0.716989                    \n",
      "    13     0.525087   0.523749   0.75877                     \n",
      "    14     0.503086   0.528408   0.754829                    \n",
      "    15     0.491699   0.50712    0.76823                     \n"
     ]
    },
    {
     "data": {
      "application/vnd.jupyter.widget-view+json": {
       "model_id": "762195d9bdaa4766b61dd5c6c3fd556d",
       "version_major": 2,
       "version_minor": 0
      },
      "text/plain": [
       "HBox(children=(IntProgress(value=0, description='Epoch', max=8, style=ProgressStyle(description_width='initial…"
      ]
     },
     "metadata": {},
     "output_type": "display_data"
    },
    {
     "name": "stdout",
     "output_type": "stream",
     "text": [
      "epoch      trn_loss   val_loss   accuracy                    \n",
      "    0      0.488671   0.511499   0.757588  \n",
      "    1      0.460285   0.503236   0.763894                    \n",
      "    2      0.462078   0.512186   0.764289                    \n",
      "    3      0.450303   0.508686   0.760741                    \n",
      "    4      0.471489   0.507556   0.764683                    \n",
      "    5      0.457316   0.505369   0.767442                    \n",
      "    6      0.454396   0.513403   0.757194                    \n",
      "    7      0.436316   0.518766   0.765471                    \n"
     ]
    },
    {
     "data": {
      "application/vnd.jupyter.widget-view+json": {
       "model_id": "08ab019b573240fe9c185cd0dcdf6e80",
       "version_major": 2,
       "version_minor": 0
      },
      "text/plain": [
       "HBox(children=(IntProgress(value=0, description='Epoch', max=4, style=ProgressStyle(description_width='initial…"
      ]
     },
     "metadata": {},
     "output_type": "display_data"
    },
    {
     "name": "stdout",
     "output_type": "stream",
     "text": [
      "epoch      trn_loss   val_loss   accuracy                    \n",
      "    0      0.427129   0.515873   0.766654  \n",
      "    1      0.425054   0.515056   0.759164                    \n",
      "    2      0.423978   0.519521   0.766654                    \n",
      "    3      0.403741   0.513243   0.767048                    \n"
     ]
    },
    {
     "data": {
      "text/plain": [
       "[array([0.51324]), 0.7670476936570386]"
      ]
     },
     "execution_count": 52,
     "metadata": {},
     "output_type": "execute_result"
    }
   ],
   "source": [
    "learn.fit(lr, 1, cycle_len=2)\n",
    "learn.unfreeze()\n",
    "lrs = np.array([lr/10, lr/20, lr/40])\n",
    "learn.fit(lrs, 4, cycle_len=4, use_clr=(20, 16))\n",
    "learn.fit(lrs/4, 2, cycle_len=4, use_clr=(10, 16))\n",
    "learn.fit(lrs/16, 1, cycle_len=4, use_clr=(10, 16))"
   ]
  },
  {
   "cell_type": "code",
   "execution_count": 53,
   "metadata": {},
   "outputs": [
    {
     "name": "stdout",
     "output_type": "stream",
     "text": [
      "                                             \r"
     ]
    }
   ],
   "source": [
    "preds_t,y_t = learn.TTA(is_test=True,n_aug=8)\n",
    "preds_t = np.stack(preds_t, axis=-1)\n",
    "preds_t = np.exp(preds_t)\n",
    "preds_t = preds_t.mean(axis=-1)\n",
    "np.save(\"preds_resnet50_2classes.npy\",preds_t)"
   ]
  },
  {
   "cell_type": "code",
   "execution_count": 27,
   "metadata": {},
   "outputs": [
    {
     "data": {
      "text/html": [
       "<div>\n",
       "<style scoped>\n",
       "    .dataframe tbody tr th:only-of-type {\n",
       "        vertical-align: middle;\n",
       "    }\n",
       "\n",
       "    .dataframe tbody tr th {\n",
       "        vertical-align: top;\n",
       "    }\n",
       "\n",
       "    .dataframe thead th {\n",
       "        text-align: right;\n",
       "    }\n",
       "</style>\n",
       "<table border=\"1\" class=\"dataframe\">\n",
       "  <thead>\n",
       "    <tr style=\"text-align: right;\">\n",
       "      <th></th>\n",
       "      <th>Image</th>\n",
       "      <th>Id</th>\n",
       "    </tr>\n",
       "  </thead>\n",
       "  <tbody>\n",
       "    <tr>\n",
       "      <th>0</th>\n",
       "      <td>00028a005.jpg</td>\n",
       "      <td>new_whale w_36bbd71 w_d72771c w_e6264df w_c875e45</td>\n",
       "    </tr>\n",
       "    <tr>\n",
       "      <th>1</th>\n",
       "      <td>000dcf7d8.jpg</td>\n",
       "      <td>new_whale w_6e7763b w_e3956f5 w_f7cd240 w_d907b6c</td>\n",
       "    </tr>\n",
       "    <tr>\n",
       "      <th>2</th>\n",
       "      <td>000e7c7df.jpg</td>\n",
       "      <td>new_whale w_c4862bb w_4689352 w_a743e09 w_15951db</td>\n",
       "    </tr>\n",
       "    <tr>\n",
       "      <th>3</th>\n",
       "      <td>0019c34f4.jpg</td>\n",
       "      <td>w_9c506f6 w_59052ad w_08630fd w_8b86b95 w_0135f5f</td>\n",
       "    </tr>\n",
       "    <tr>\n",
       "      <th>4</th>\n",
       "      <td>001a4d292.jpg</td>\n",
       "      <td>w_8c56684 w_3d67c3b w_9e18daa w_1fc4625 w_58ddf90</td>\n",
       "    </tr>\n",
       "  </tbody>\n",
       "</table>\n",
       "</div>"
      ],
      "text/plain": [
       "           Image                                                 Id\n",
       "0  00028a005.jpg  new_whale w_36bbd71 w_d72771c w_e6264df w_c875e45\n",
       "1  000dcf7d8.jpg  new_whale w_6e7763b w_e3956f5 w_f7cd240 w_d907b6c\n",
       "2  000e7c7df.jpg  new_whale w_c4862bb w_4689352 w_a743e09 w_15951db\n",
       "3  0019c34f4.jpg  w_9c506f6 w_59052ad w_08630fd w_8b86b95 w_0135f5f\n",
       "4  001a4d292.jpg  w_8c56684 w_3d67c3b w_9e18daa w_1fc4625 w_58ddf90"
      ]
     },
     "execution_count": 27,
     "metadata": {},
     "output_type": "execute_result"
    }
   ],
   "source": [
    "MODEL_PATH = 'Resnet50_v1'\n",
    "sample_df = pd.read_csv(SAMPLE_SUB)\n",
    "sample_list = list(sample_df.Image)\n",
    "pred_list = [[labels_list[i] for i in p.argsort()[-5:][::-1]] for p in preds_t]\n",
    "pred_dic = dict((key, value) for (key, value) in zip(learn.data.test_ds.fnames,pred_list))\n",
    "pred_list_cor = [' '.join(pred_dic[id]) for id in sample_list]\n",
    "df = pd.DataFrame({'Image':sample_list,'Id': pred_list_cor})\n",
    "df.to_csv('submission.csv'.format(MODEL_PATH), header=True, index=False)\n",
    "df.head()"
   ]
  },
  {
   "cell_type": "code",
   "execution_count": 18,
   "metadata": {},
   "outputs": [
    {
     "data": {
      "text/plain": [
       "7960"
      ]
     },
     "execution_count": 18,
     "metadata": {},
     "output_type": "execute_result"
    }
   ],
   "source": [
    "len(df)"
   ]
  },
  {
   "cell_type": "code",
   "execution_count": 54,
   "metadata": {},
   "outputs": [],
   "source": [
    "# Save the model\n",
    "learn.save(\"resnet50_2classes\")"
   ]
  },
  {
   "cell_type": "code",
   "execution_count": 25,
   "metadata": {},
   "outputs": [],
   "source": [
    "# Load the model\n",
    "learn.load(\"resnet50_2classes\")"
   ]
  },
  {
   "cell_type": "code",
   "execution_count": 68,
   "metadata": {},
   "outputs": [
    {
     "ename": "IndexError",
     "evalue": "list index out of range",
     "output_type": "error",
     "traceback": [
      "\u001b[0;31m---------------------------------------------------------------------------\u001b[0m",
      "\u001b[0;31mIndexError\u001b[0m                                Traceback (most recent call last)",
      "\u001b[0;32m<ipython-input-68-419561046518>\u001b[0m in \u001b[0;36m<module>\u001b[0;34m\u001b[0m\n\u001b[1;32m      3\u001b[0m \u001b[0msample_list\u001b[0m \u001b[0;34m=\u001b[0m \u001b[0mlist\u001b[0m\u001b[0;34m(\u001b[0m\u001b[0msample_df\u001b[0m\u001b[0;34m[\u001b[0m\u001b[0;34m\"Image\"\u001b[0m\u001b[0;34m]\u001b[0m\u001b[0;34m)\u001b[0m\u001b[0;34m\u001b[0m\u001b[0;34m\u001b[0m\u001b[0m\n\u001b[1;32m      4\u001b[0m \u001b[0;31m#print(sample_list)\u001b[0m\u001b[0;34m\u001b[0m\u001b[0;34m\u001b[0m\u001b[0;34m\u001b[0m\u001b[0m\n\u001b[0;32m----> 5\u001b[0;31m \u001b[0mpred_list\u001b[0m \u001b[0;34m=\u001b[0m \u001b[0;34m[\u001b[0m\u001b[0;34m[\u001b[0m\u001b[0mlabels_list\u001b[0m\u001b[0;34m[\u001b[0m\u001b[0mi\u001b[0m\u001b[0;34m]\u001b[0m \u001b[0;32mfor\u001b[0m \u001b[0mi\u001b[0m \u001b[0;32min\u001b[0m \u001b[0mp\u001b[0m\u001b[0;34m.\u001b[0m\u001b[0margsort\u001b[0m\u001b[0;34m(\u001b[0m\u001b[0;34m)\u001b[0m\u001b[0;34m[\u001b[0m\u001b[0;34m-\u001b[0m\u001b[0;36m5\u001b[0m\u001b[0;34m:\u001b[0m\u001b[0;34m]\u001b[0m\u001b[0;34m[\u001b[0m\u001b[0;34m:\u001b[0m\u001b[0;34m:\u001b[0m\u001b[0;34m-\u001b[0m\u001b[0;36m1\u001b[0m\u001b[0;34m]\u001b[0m\u001b[0;34m]\u001b[0m \u001b[0;32mfor\u001b[0m \u001b[0mp\u001b[0m \u001b[0;32min\u001b[0m \u001b[0mpreds_t\u001b[0m\u001b[0;34m]\u001b[0m\u001b[0;34m\u001b[0m\u001b[0;34m\u001b[0m\u001b[0m\n\u001b[0m\u001b[1;32m      6\u001b[0m \u001b[0mpred_dic\u001b[0m \u001b[0;34m=\u001b[0m \u001b[0mdict\u001b[0m\u001b[0;34m(\u001b[0m\u001b[0;34m(\u001b[0m\u001b[0mkey\u001b[0m\u001b[0;34m,\u001b[0m \u001b[0mvalue\u001b[0m\u001b[0;34m)\u001b[0m \u001b[0;32mfor\u001b[0m \u001b[0;34m(\u001b[0m\u001b[0mkey\u001b[0m\u001b[0;34m,\u001b[0m \u001b[0mvalue\u001b[0m\u001b[0;34m)\u001b[0m \u001b[0;32min\u001b[0m \u001b[0mzip\u001b[0m\u001b[0;34m(\u001b[0m\u001b[0mlearn\u001b[0m\u001b[0;34m.\u001b[0m\u001b[0mdata\u001b[0m\u001b[0;34m.\u001b[0m\u001b[0mtest_ds\u001b[0m\u001b[0;34m.\u001b[0m\u001b[0mfnames\u001b[0m\u001b[0;34m,\u001b[0m\u001b[0mpred_list\u001b[0m\u001b[0;34m)\u001b[0m\u001b[0;34m)\u001b[0m\u001b[0;34m\u001b[0m\u001b[0;34m\u001b[0m\u001b[0m\n\u001b[1;32m      7\u001b[0m \u001b[0mprint\u001b[0m\u001b[0;34m(\u001b[0m\u001b[0mpred_dic\u001b[0m\u001b[0;34m)\u001b[0m\u001b[0;34m\u001b[0m\u001b[0;34m\u001b[0m\u001b[0m\n",
      "\u001b[0;32m<ipython-input-68-419561046518>\u001b[0m in \u001b[0;36m<listcomp>\u001b[0;34m(.0)\u001b[0m\n\u001b[1;32m      3\u001b[0m \u001b[0msample_list\u001b[0m \u001b[0;34m=\u001b[0m \u001b[0mlist\u001b[0m\u001b[0;34m(\u001b[0m\u001b[0msample_df\u001b[0m\u001b[0;34m[\u001b[0m\u001b[0;34m\"Image\"\u001b[0m\u001b[0;34m]\u001b[0m\u001b[0;34m)\u001b[0m\u001b[0;34m\u001b[0m\u001b[0;34m\u001b[0m\u001b[0m\n\u001b[1;32m      4\u001b[0m \u001b[0;31m#print(sample_list)\u001b[0m\u001b[0;34m\u001b[0m\u001b[0;34m\u001b[0m\u001b[0;34m\u001b[0m\u001b[0m\n\u001b[0;32m----> 5\u001b[0;31m \u001b[0mpred_list\u001b[0m \u001b[0;34m=\u001b[0m \u001b[0;34m[\u001b[0m\u001b[0;34m[\u001b[0m\u001b[0mlabels_list\u001b[0m\u001b[0;34m[\u001b[0m\u001b[0mi\u001b[0m\u001b[0;34m]\u001b[0m \u001b[0;32mfor\u001b[0m \u001b[0mi\u001b[0m \u001b[0;32min\u001b[0m \u001b[0mp\u001b[0m\u001b[0;34m.\u001b[0m\u001b[0margsort\u001b[0m\u001b[0;34m(\u001b[0m\u001b[0;34m)\u001b[0m\u001b[0;34m[\u001b[0m\u001b[0;34m-\u001b[0m\u001b[0;36m5\u001b[0m\u001b[0;34m:\u001b[0m\u001b[0;34m]\u001b[0m\u001b[0;34m[\u001b[0m\u001b[0;34m:\u001b[0m\u001b[0;34m:\u001b[0m\u001b[0;34m-\u001b[0m\u001b[0;36m1\u001b[0m\u001b[0;34m]\u001b[0m\u001b[0;34m]\u001b[0m \u001b[0;32mfor\u001b[0m \u001b[0mp\u001b[0m \u001b[0;32min\u001b[0m \u001b[0mpreds_t\u001b[0m\u001b[0;34m]\u001b[0m\u001b[0;34m\u001b[0m\u001b[0;34m\u001b[0m\u001b[0m\n\u001b[0m\u001b[1;32m      6\u001b[0m \u001b[0mpred_dic\u001b[0m \u001b[0;34m=\u001b[0m \u001b[0mdict\u001b[0m\u001b[0;34m(\u001b[0m\u001b[0;34m(\u001b[0m\u001b[0mkey\u001b[0m\u001b[0;34m,\u001b[0m \u001b[0mvalue\u001b[0m\u001b[0;34m)\u001b[0m \u001b[0;32mfor\u001b[0m \u001b[0;34m(\u001b[0m\u001b[0mkey\u001b[0m\u001b[0;34m,\u001b[0m \u001b[0mvalue\u001b[0m\u001b[0;34m)\u001b[0m \u001b[0;32min\u001b[0m \u001b[0mzip\u001b[0m\u001b[0;34m(\u001b[0m\u001b[0mlearn\u001b[0m\u001b[0;34m.\u001b[0m\u001b[0mdata\u001b[0m\u001b[0;34m.\u001b[0m\u001b[0mtest_ds\u001b[0m\u001b[0;34m.\u001b[0m\u001b[0mfnames\u001b[0m\u001b[0;34m,\u001b[0m\u001b[0mpred_list\u001b[0m\u001b[0;34m)\u001b[0m\u001b[0;34m)\u001b[0m\u001b[0;34m\u001b[0m\u001b[0;34m\u001b[0m\u001b[0m\n\u001b[1;32m      7\u001b[0m \u001b[0mprint\u001b[0m\u001b[0;34m(\u001b[0m\u001b[0mpred_dic\u001b[0m\u001b[0;34m)\u001b[0m\u001b[0;34m\u001b[0m\u001b[0;34m\u001b[0m\u001b[0m\n",
      "\u001b[0;32m<ipython-input-68-419561046518>\u001b[0m in \u001b[0;36m<listcomp>\u001b[0;34m(.0)\u001b[0m\n\u001b[1;32m      3\u001b[0m \u001b[0msample_list\u001b[0m \u001b[0;34m=\u001b[0m \u001b[0mlist\u001b[0m\u001b[0;34m(\u001b[0m\u001b[0msample_df\u001b[0m\u001b[0;34m[\u001b[0m\u001b[0;34m\"Image\"\u001b[0m\u001b[0;34m]\u001b[0m\u001b[0;34m)\u001b[0m\u001b[0;34m\u001b[0m\u001b[0;34m\u001b[0m\u001b[0m\n\u001b[1;32m      4\u001b[0m \u001b[0;31m#print(sample_list)\u001b[0m\u001b[0;34m\u001b[0m\u001b[0;34m\u001b[0m\u001b[0;34m\u001b[0m\u001b[0m\n\u001b[0;32m----> 5\u001b[0;31m \u001b[0mpred_list\u001b[0m \u001b[0;34m=\u001b[0m \u001b[0;34m[\u001b[0m\u001b[0;34m[\u001b[0m\u001b[0mlabels_list\u001b[0m\u001b[0;34m[\u001b[0m\u001b[0mi\u001b[0m\u001b[0;34m]\u001b[0m \u001b[0;32mfor\u001b[0m \u001b[0mi\u001b[0m \u001b[0;32min\u001b[0m \u001b[0mp\u001b[0m\u001b[0;34m.\u001b[0m\u001b[0margsort\u001b[0m\u001b[0;34m(\u001b[0m\u001b[0;34m)\u001b[0m\u001b[0;34m[\u001b[0m\u001b[0;34m-\u001b[0m\u001b[0;36m5\u001b[0m\u001b[0;34m:\u001b[0m\u001b[0;34m]\u001b[0m\u001b[0;34m[\u001b[0m\u001b[0;34m:\u001b[0m\u001b[0;34m:\u001b[0m\u001b[0;34m-\u001b[0m\u001b[0;36m1\u001b[0m\u001b[0;34m]\u001b[0m\u001b[0;34m]\u001b[0m \u001b[0;32mfor\u001b[0m \u001b[0mp\u001b[0m \u001b[0;32min\u001b[0m \u001b[0mpreds_t\u001b[0m\u001b[0;34m]\u001b[0m\u001b[0;34m\u001b[0m\u001b[0;34m\u001b[0m\u001b[0m\n\u001b[0m\u001b[1;32m      6\u001b[0m \u001b[0mpred_dic\u001b[0m \u001b[0;34m=\u001b[0m \u001b[0mdict\u001b[0m\u001b[0;34m(\u001b[0m\u001b[0;34m(\u001b[0m\u001b[0mkey\u001b[0m\u001b[0;34m,\u001b[0m \u001b[0mvalue\u001b[0m\u001b[0;34m)\u001b[0m \u001b[0;32mfor\u001b[0m \u001b[0;34m(\u001b[0m\u001b[0mkey\u001b[0m\u001b[0;34m,\u001b[0m \u001b[0mvalue\u001b[0m\u001b[0;34m)\u001b[0m \u001b[0;32min\u001b[0m \u001b[0mzip\u001b[0m\u001b[0;34m(\u001b[0m\u001b[0mlearn\u001b[0m\u001b[0;34m.\u001b[0m\u001b[0mdata\u001b[0m\u001b[0;34m.\u001b[0m\u001b[0mtest_ds\u001b[0m\u001b[0;34m.\u001b[0m\u001b[0mfnames\u001b[0m\u001b[0;34m,\u001b[0m\u001b[0mpred_list\u001b[0m\u001b[0;34m)\u001b[0m\u001b[0;34m)\u001b[0m\u001b[0;34m\u001b[0m\u001b[0;34m\u001b[0m\u001b[0m\n\u001b[1;32m      7\u001b[0m \u001b[0mprint\u001b[0m\u001b[0;34m(\u001b[0m\u001b[0mpred_dic\u001b[0m\u001b[0;34m)\u001b[0m\u001b[0;34m\u001b[0m\u001b[0;34m\u001b[0m\u001b[0m\n",
      "\u001b[0;31mIndexError\u001b[0m: list index out of range"
     ]
    }
   ],
   "source": [
    "sample_df = pd.read_csv(SAMPLE_SUB)\n",
    "#print(sample_df)\n",
    "sample_list = list(sample_df[\"Image\"])\n",
    "#print(sample_list)\n",
    "pred_list = [[labels_list[i] for i in p.argsort()[-5:][::-1]] for p in preds_t]\n",
    "pred_dic = dict((key, value) for (key, value) in zip(learn.data.test_ds.fnames,pred_list))\n",
    "print(pred_dic)"
   ]
  },
  {
   "cell_type": "code",
   "execution_count": 64,
   "metadata": {},
   "outputs": [
    {
     "data": {
      "text/plain": [
       "[0, 1]"
      ]
     },
     "execution_count": 64,
     "metadata": {},
     "output_type": "execute_result"
    }
   ],
   "source": [
    "labels_list"
   ]
  },
  {
   "cell_type": "code",
   "execution_count": 67,
   "metadata": {},
   "outputs": [
    {
     "ename": "TypeError",
     "evalue": "argsort() missing 1 required positional argument: 'a'",
     "output_type": "error",
     "traceback": [
      "\u001b[0;31m---------------------------------------------------------------------------\u001b[0m",
      "\u001b[0;31mTypeError\u001b[0m                                 Traceback (most recent call last)",
      "\u001b[0;32m<ipython-input-67-0bed69fec554>\u001b[0m in \u001b[0;36m<module>\u001b[0;34m\u001b[0m\n\u001b[0;32m----> 1\u001b[0;31m \u001b[0mnp\u001b[0m\u001b[0;34m.\u001b[0m\u001b[0margsort\u001b[0m\u001b[0;34m(\u001b[0m\u001b[0;34m)\u001b[0m\u001b[0;34m[\u001b[0m\u001b[0;34m-\u001b[0m\u001b[0;36m5\u001b[0m\u001b[0;34m:\u001b[0m\u001b[0;34m]\u001b[0m\u001b[0;34m[\u001b[0m\u001b[0;34m:\u001b[0m\u001b[0;34m:\u001b[0m\u001b[0;34m-\u001b[0m\u001b[0;36m1\u001b[0m\u001b[0;34m]\u001b[0m\u001b[0;34m\u001b[0m\u001b[0;34m\u001b[0m\u001b[0m\n\u001b[0m",
      "\u001b[0;31mTypeError\u001b[0m: argsort() missing 1 required positional argument: 'a'"
     ]
    }
   ],
   "source": [
    "np.argsort()[-5:][::-1]"
   ]
  },
  {
   "cell_type": "code",
   "execution_count": null,
   "metadata": {},
   "outputs": [],
   "source": []
  }
 ],
 "metadata": {
  "kernelspec": {
   "display_name": "Python 3",
   "language": "python",
   "name": "python3"
  },
  "language_info": {
   "codemirror_mode": {
    "name": "ipython",
    "version": 3
   },
   "file_extension": ".py",
   "mimetype": "text/x-python",
   "name": "python",
   "nbconvert_exporter": "python",
   "pygments_lexer": "ipython3",
   "version": "3.6.7"
  }
 },
 "nbformat": 4,
 "nbformat_minor": 2
}
