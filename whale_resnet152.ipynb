{
 "cells": [
  {
   "cell_type": "code",
   "execution_count": 1,
   "metadata": {},
   "outputs": [],
   "source": [
    "# Imports here\n",
    "import torch\n",
    "from torchvision import datasets, transforms, models\n",
    "from torch.utils.data.sampler import SubsetRandomSampler\n",
    "import numpy as np\n",
    "import matplotlib.pyplot as plt\n",
    "import pandas as pd\n",
    "\n",
    "%matplotlib inline"
   ]
  },
  {
   "cell_type": "code",
   "execution_count": 2,
   "metadata": {},
   "outputs": [],
   "source": [
    "data_dir = 'data'\n",
    "train_dir = data_dir + '/train'\n",
    "valid_dir = data_dir + '/test'\n",
    "bs = 32\n",
    "valid_size = 0.2 # percentage of total training set"
   ]
  },
  {
   "cell_type": "markdown",
   "metadata": {},
   "source": [
    "First we need to preprocess the dataset in order to be able to feed it to the network. This is a one time operation"
   ]
  },
  {
   "cell_type": "code",
   "execution_count": 17,
   "metadata": {},
   "outputs": [],
   "source": [
    "#import os\n",
    "\n",
    "# Read csv file\n",
    "#df = pd.read_csv(data_dir + \"/train.csv\")\n",
    "#df.head\n",
    "#images = (list(df['Image']))\n",
    "#ids = list(df['Id'])\n",
    "#ids_set = set(ids)\n",
    "#print(ids_set)\n",
    "#print(len(ids))\n",
    "#print(ids_set)\n",
    "#for item in ids_set:\n",
    "    #print(item)\n",
    "#    os.makedirs(train_dir + \"/\" + item)\n",
    "#for image, image_id in zip(images, ids):\n",
    "#    os.rename(train_dir + \"/\" + image, train_dir + \"/\" + image_id + \"/\" + image)"
   ]
  },
  {
   "cell_type": "code",
   "execution_count": null,
   "metadata": {},
   "outputs": [],
   "source": []
  }
 ],
 "metadata": {
  "kernelspec": {
   "display_name": "Python 2",
   "language": "python",
   "name": "python2"
  },
  "language_info": {
   "codemirror_mode": {
    "name": "ipython",
    "version": 2
   },
   "file_extension": ".py",
   "mimetype": "text/x-python",
   "name": "python",
   "nbconvert_exporter": "python",
   "pygments_lexer": "ipython2",
   "version": "2.7.12"
  }
 },
 "nbformat": 4,
 "nbformat_minor": 2
}
